{
 "cells": [
  {
   "cell_type": "code",
   "execution_count": 1,
   "id": "c33bae8e-712d-4fec-adbe-31228aaa3408",
   "metadata": {},
   "outputs": [],
   "source": [
    "import numpy as np\n",
    "import pandas as pd\n",
    "import os\n",
    "import cv2\n",
    "import matplotlib.pyplot as plt\n",
    "import tensorflow as tf\n",
    "from tensorflow.keras.models import Sequential\n",
    "from tensorflow.keras.layers import RandomFlip, RandomRotation, RandomContrast, Dropout\n",
    "from tensorflow.keras.preprocessing.image import ImageDataGenerator\n",
    "from tensorflow.keras.losses import SparseCategoricalCrossentropy\n",
    "from tensorflow.keras.callbacks import EarlyStopping\n",
    "from tensorflow.keras.regularizers import l1, l2\n",
    "from sklearn.model_selection import train_test_split\n",
    "from sklearn.utils import shuffle\n",
    "import datetime"
   ]
  },
  {
   "cell_type": "code",
   "execution_count": 5,
   "id": "4f7369ac-8b90-4cd7-898a-352a89b966df",
   "metadata": {},
   "outputs": [],
   "source": [
    "# Set variables\n",
    "epoch = 30\n",
    "batch_size = 32\n",
    "target_size = (299, 299)\n",
    "\n",
    "# Load and preprocess images\n",
    "def load_and_preprocess_images(data_df, image_folder, target_size):\n",
    "    X = []\n",
    "    y = []\n",
    "\n",
    "    for index, row in data_df.iterrows():\n",
    "        img_filename = row['image_path'][1:]  # Remove leading \"/\"\n",
    "        img_path = os.path.join(image_folder, img_filename)\n",
    "        label = row['label'] - 1\n",
    "\n",
    "        img = cv2.imread(img_path)\n",
    "        img = cv2.cvtColor(img, cv2.COLOR_BGR2RGB)\n",
    "        img = cv2.resize(img, target_size)\n",
    "        img = img / 255.0\n",
    "\n",
    "        X.append(img)\n",
    "        y.append(label)\n",
    "\n",
    "    return np.array(X), np.array(y)"
   ]
  },
  {
   "cell_type": "code",
   "execution_count": 3,
   "id": "fa84e189-6ff5-49ac-8540-7e657a2ac277",
   "metadata": {},
   "outputs": [],
   "source": [
    "# Load train data\n",
    "train_df = pd.read_csv(\"train_images.csv\")\n",
    "script_dir = os.getcwd()\n",
    "train_images = os.path.join(script_dir, 'train_images')\n",
    "\n",
    "X_train, y_train = load_and_preprocess_images(train_df, train_images, target_size)\n",
    "\n",
    "# Shuffle the data\n",
    "X_train, y_train = shuffle(X_train, y_train, random_state=42)\n",
    "\n",
    "# Split data into training and validation sets\n",
    "X_train, X_val, y_train, y_val = train_test_split(X_train, y_train, test_size=0.2, random_state=42)"
   ]
  },
  {
   "cell_type": "code",
   "execution_count": 4,
   "metadata": {},
   "outputs": [
    {
     "name": "stdout",
     "output_type": "stream",
     "text": [
      "Training with params: {'dropout_rate': 0.3, 'learning_rate': 0.001}\n"
     ]
    },
    {
     "name": "stderr",
     "output_type": "stream",
     "text": [
      "WARNING:absl:At this time, the v2.11+ optimizer `tf.keras.optimizers.Adam` runs slowly on M1/M2 Macs, please use the legacy Keras optimizer instead, located at `tf.keras.optimizers.legacy.Adam`.\n"
     ]
    },
    {
     "name": "stdout",
     "output_type": "stream",
     "text": [
      "Epoch 1/5\n",
      "99/99 [==============================] - 215s 2s/step - loss: 4.1947 - accuracy: 0.1901 - val_loss: 3.1654 - val_accuracy: 0.3448\n",
      "Epoch 2/5\n",
      "99/99 [==============================] - 209s 2s/step - loss: 2.4937 - accuracy: 0.4863 - val_loss: 2.4622 - val_accuracy: 0.4453\n",
      "Epoch 3/5\n",
      "99/99 [==============================] - 206s 2s/step - loss: 1.8535 - accuracy: 0.6303 - val_loss: 2.1411 - val_accuracy: 0.4962\n",
      "Epoch 4/5\n",
      "99/99 [==============================] - 202s 2s/step - loss: 1.4896 - accuracy: 0.7188 - val_loss: 1.9526 - val_accuracy: 0.5165\n",
      "Epoch 5/5\n",
      "99/99 [==============================] - 200s 2s/step - loss: 1.2451 - accuracy: 0.7627 - val_loss: 1.8038 - val_accuracy: 0.5445\n",
      "Validation accuracy: 0.3447837233543396\n",
      "Training with params: {'dropout_rate': 0.3, 'learning_rate': 0.01}\n"
     ]
    },
    {
     "name": "stderr",
     "output_type": "stream",
     "text": [
      "WARNING:absl:At this time, the v2.11+ optimizer `tf.keras.optimizers.Adam` runs slowly on M1/M2 Macs, please use the legacy Keras optimizer instead, located at `tf.keras.optimizers.legacy.Adam`.\n"
     ]
    },
    {
     "name": "stdout",
     "output_type": "stream",
     "text": [
      "Epoch 1/5\n",
      "99/99 [==============================] - 216s 2s/step - loss: 3.5683 - accuracy: 0.3146 - val_loss: 2.7008 - val_accuracy: 0.4288\n",
      "Epoch 2/5\n",
      "99/99 [==============================] - 203s 2s/step - loss: 1.3943 - accuracy: 0.6242 - val_loss: 2.1681 - val_accuracy: 0.5229\n",
      "Epoch 3/5\n",
      "99/99 [==============================] - 194s 2s/step - loss: 0.8540 - accuracy: 0.7538 - val_loss: 2.0978 - val_accuracy: 0.5204\n",
      "Epoch 4/5\n",
      "99/99 [==============================] - 197s 2s/step - loss: 0.5688 - accuracy: 0.8217 - val_loss: 2.2054 - val_accuracy: 0.5102\n",
      "Epoch 5/5\n",
      "99/99 [==============================] - 194s 2s/step - loss: 0.4047 - accuracy: 0.8841 - val_loss: 1.9749 - val_accuracy: 0.5407\n",
      "Validation accuracy: 0.42875316739082336\n",
      "Training with params: {'dropout_rate': 0.3, 'learning_rate': 0.1}\n"
     ]
    },
    {
     "name": "stderr",
     "output_type": "stream",
     "text": [
      "WARNING:absl:At this time, the v2.11+ optimizer `tf.keras.optimizers.Adam` runs slowly on M1/M2 Macs, please use the legacy Keras optimizer instead, located at `tf.keras.optimizers.legacy.Adam`.\n"
     ]
    },
    {
     "name": "stdout",
     "output_type": "stream",
     "text": [
      "Epoch 1/5\n",
      "99/99 [==============================] - 210s 2s/step - loss: 26.1994 - accuracy: 0.2210 - val_loss: 17.4326 - val_accuracy: 0.3270\n",
      "Epoch 2/5\n",
      "99/99 [==============================] - 201s 2s/step - loss: 11.5061 - accuracy: 0.4704 - val_loss: 18.8711 - val_accuracy: 0.3791\n",
      "Epoch 3/5\n",
      "99/99 [==============================] - 200s 2s/step - loss: 9.1480 - accuracy: 0.5882 - val_loss: 14.9112 - val_accuracy: 0.4555\n",
      "Epoch 4/5\n",
      "99/99 [==============================] - 201s 2s/step - loss: 7.1160 - accuracy: 0.6525 - val_loss: 17.0466 - val_accuracy: 0.4211\n",
      "Epoch 5/5\n",
      "99/99 [==============================] - 198s 2s/step - loss: 5.4637 - accuracy: 0.7175 - val_loss: 17.6666 - val_accuracy: 0.4593\n",
      "Validation accuracy: 0.32697200775146484\n",
      "Training with params: {'dropout_rate': 0.5, 'learning_rate': 0.001}\n"
     ]
    },
    {
     "name": "stderr",
     "output_type": "stream",
     "text": [
      "WARNING:absl:At this time, the v2.11+ optimizer `tf.keras.optimizers.Adam` runs slowly on M1/M2 Macs, please use the legacy Keras optimizer instead, located at `tf.keras.optimizers.legacy.Adam`.\n"
     ]
    },
    {
     "name": "stdout",
     "output_type": "stream",
     "text": [
      "Epoch 1/5\n",
      "99/99 [==============================] - 212s 2s/step - loss: 4.2983 - accuracy: 0.1694 - val_loss: 3.2648 - val_accuracy: 0.3410\n",
      "Epoch 2/5\n",
      "99/99 [==============================] - 200s 2s/step - loss: 2.6405 - accuracy: 0.4567 - val_loss: 2.5245 - val_accuracy: 0.4402\n",
      "Epoch 3/5\n",
      "99/99 [==============================] - 211s 2s/step - loss: 2.0089 - accuracy: 0.5717 - val_loss: 2.2165 - val_accuracy: 0.4720\n",
      "Epoch 4/5\n",
      "99/99 [==============================] - 202s 2s/step - loss: 1.6368 - accuracy: 0.6643 - val_loss: 2.0062 - val_accuracy: 0.5115\n",
      "Epoch 5/5\n",
      "99/99 [==============================] - 201s 2s/step - loss: 1.3860 - accuracy: 0.7213 - val_loss: 1.8783 - val_accuracy: 0.5318\n",
      "Validation accuracy: 0.3409669101238251\n",
      "Training with params: {'dropout_rate': 0.5, 'learning_rate': 0.01}\n"
     ]
    },
    {
     "name": "stderr",
     "output_type": "stream",
     "text": [
      "WARNING:absl:At this time, the v2.11+ optimizer `tf.keras.optimizers.Adam` runs slowly on M1/M2 Macs, please use the legacy Keras optimizer instead, located at `tf.keras.optimizers.legacy.Adam`.\n"
     ]
    },
    {
     "name": "stdout",
     "output_type": "stream",
     "text": [
      "Epoch 1/5\n",
      "99/99 [==============================] - 217s 2s/step - loss: 3.6337 - accuracy: 0.2752 - val_loss: 2.2881 - val_accuracy: 0.4542\n",
      "Epoch 2/5\n",
      "99/99 [==============================] - 199s 2s/step - loss: 1.5304 - accuracy: 0.5924 - val_loss: 2.1949 - val_accuracy: 0.4733\n",
      "Epoch 3/5\n",
      "99/99 [==============================] - 199s 2s/step - loss: 1.1572 - accuracy: 0.6815 - val_loss: 2.0457 - val_accuracy: 0.5420\n",
      "Epoch 4/5\n",
      "99/99 [==============================] - 199s 2s/step - loss: 0.8243 - accuracy: 0.7627 - val_loss: 2.2670 - val_accuracy: 0.4936\n",
      "Epoch 5/5\n",
      "99/99 [==============================] - 195s 2s/step - loss: 0.6452 - accuracy: 0.8051 - val_loss: 2.1504 - val_accuracy: 0.5369\n",
      "Validation accuracy: 0.4541984796524048\n",
      "Training with params: {'dropout_rate': 0.5, 'learning_rate': 0.1}\n"
     ]
    },
    {
     "name": "stderr",
     "output_type": "stream",
     "text": [
      "WARNING:absl:At this time, the v2.11+ optimizer `tf.keras.optimizers.Adam` runs slowly on M1/M2 Macs, please use the legacy Keras optimizer instead, located at `tf.keras.optimizers.legacy.Adam`.\n"
     ]
    },
    {
     "name": "stdout",
     "output_type": "stream",
     "text": [
      "Epoch 1/5\n",
      "99/99 [==============================] - 212s 2s/step - loss: 23.4781 - accuracy: 0.2054 - val_loss: 16.5283 - val_accuracy: 0.3295\n",
      "Epoch 2/5\n",
      "99/99 [==============================] - 203s 2s/step - loss: 12.5848 - accuracy: 0.4366 - val_loss: 16.1419 - val_accuracy: 0.3804\n",
      "Epoch 3/5\n",
      "99/99 [==============================] - 200s 2s/step - loss: 11.0730 - accuracy: 0.5166 - val_loss: 16.6724 - val_accuracy: 0.4198\n",
      "Epoch 4/5\n",
      "99/99 [==============================] - 198s 2s/step - loss: 9.0377 - accuracy: 0.5863 - val_loss: 16.9006 - val_accuracy: 0.4466\n",
      "Epoch 5/5\n",
      "99/99 [==============================] - 195s 2s/step - loss: 7.7806 - accuracy: 0.6395 - val_loss: 18.5272 - val_accuracy: 0.4529\n",
      "Validation accuracy: 0.32951653003692627\n",
      "Training with params: {'dropout_rate': 0.7, 'learning_rate': 0.001}\n"
     ]
    },
    {
     "name": "stderr",
     "output_type": "stream",
     "text": [
      "WARNING:absl:At this time, the v2.11+ optimizer `tf.keras.optimizers.Adam` runs slowly on M1/M2 Macs, please use the legacy Keras optimizer instead, located at `tf.keras.optimizers.legacy.Adam`.\n"
     ]
    },
    {
     "name": "stdout",
     "output_type": "stream",
     "text": [
      "Epoch 1/5\n",
      "99/99 [==============================] - 214s 2s/step - loss: 4.5374 - accuracy: 0.1143 - val_loss: 3.5031 - val_accuracy: 0.3130\n",
      "Epoch 2/5\n",
      "99/99 [==============================] - 203s 2s/step - loss: 2.9443 - accuracy: 0.3831 - val_loss: 2.7205 - val_accuracy: 0.3931\n",
      "Epoch 3/5\n",
      "99/99 [==============================] - 207s 2s/step - loss: 2.2925 - accuracy: 0.4978 - val_loss: 2.3632 - val_accuracy: 0.4402\n",
      "Epoch 4/5\n",
      "99/99 [==============================] - 203s 2s/step - loss: 1.9245 - accuracy: 0.5646 - val_loss: 2.1412 - val_accuracy: 0.4898\n",
      "Epoch 5/5\n",
      "99/99 [==============================] - 199s 2s/step - loss: 1.6627 - accuracy: 0.6354 - val_loss: 1.9979 - val_accuracy: 0.5153\n",
      "Validation accuracy: 0.3129771053791046\n",
      "Training with params: {'dropout_rate': 0.7, 'learning_rate': 0.01}\n"
     ]
    },
    {
     "name": "stderr",
     "output_type": "stream",
     "text": [
      "WARNING:absl:At this time, the v2.11+ optimizer `tf.keras.optimizers.Adam` runs slowly on M1/M2 Macs, please use the legacy Keras optimizer instead, located at `tf.keras.optimizers.legacy.Adam`.\n"
     ]
    },
    {
     "name": "stdout",
     "output_type": "stream",
     "text": [
      "Epoch 1/5\n",
      "99/99 [==============================] - 213s 2s/step - loss: 4.1419 - accuracy: 0.2172 - val_loss: 2.4383 - val_accuracy: 0.4008\n",
      "Epoch 2/5\n",
      "99/99 [==============================] - 201s 2s/step - loss: 2.4438 - accuracy: 0.4395 - val_loss: 2.3647 - val_accuracy: 0.4618\n",
      "Epoch 3/5\n",
      "99/99 [==============================] - 199s 2s/step - loss: 2.0495 - accuracy: 0.5261 - val_loss: 2.1684 - val_accuracy: 0.5051\n",
      "Epoch 4/5\n",
      "99/99 [==============================] - 200s 2s/step - loss: 1.7080 - accuracy: 0.5873 - val_loss: 2.3114 - val_accuracy: 0.4771\n",
      "Epoch 5/5\n",
      "99/99 [==============================] - 200s 2s/step - loss: 1.5825 - accuracy: 0.6210 - val_loss: 2.2415 - val_accuracy: 0.5331\n",
      "Validation accuracy: 0.4007633626461029\n",
      "Training with params: {'dropout_rate': 0.7, 'learning_rate': 0.1}\n"
     ]
    },
    {
     "name": "stderr",
     "output_type": "stream",
     "text": [
      "WARNING:absl:At this time, the v2.11+ optimizer `tf.keras.optimizers.Adam` runs slowly on M1/M2 Macs, please use the legacy Keras optimizer instead, located at `tf.keras.optimizers.legacy.Adam`.\n"
     ]
    },
    {
     "name": "stdout",
     "output_type": "stream",
     "text": [
      "Epoch 1/5\n",
      "99/99 [==============================] - 213s 2s/step - loss: 19.4139 - accuracy: 0.1545 - val_loss: 15.9813 - val_accuracy: 0.3193\n",
      "Epoch 2/5\n",
      "99/99 [==============================] - 204s 2s/step - loss: 17.8582 - accuracy: 0.3315 - val_loss: 15.8487 - val_accuracy: 0.3766\n",
      "Epoch 3/5\n",
      "99/99 [==============================] - 197s 2s/step - loss: 16.5330 - accuracy: 0.4194 - val_loss: 14.8505 - val_accuracy: 0.4631\n",
      "Epoch 4/5\n",
      "99/99 [==============================] - 198s 2s/step - loss: 14.5345 - accuracy: 0.4777 - val_loss: 15.2455 - val_accuracy: 0.4567\n",
      "Epoch 5/5\n",
      "99/99 [==============================] - 198s 2s/step - loss: 14.4868 - accuracy: 0.5096 - val_loss: 18.1248 - val_accuracy: 0.4288\n",
      "Validation accuracy: 0.3193384110927582\n",
      "Best validation accuracy: 0.4541984796524048\n",
      "Best hyperparameters: {'dropout_rate': 0.5, 'learning_rate': 0.01}\n"
     ]
    }
   ],
   "source": [
    "from sklearn.model_selection import ParameterGrid\n",
    "\n",
    "# Define a function to create and compile the model with given hyperparameters\n",
    "def create_model(learning_rate, dropout_rate):\n",
    "    base_model = tf.keras.applications.xception.Xception(weights=\"imagenet\", include_top=False)\n",
    "    avg = tf.keras.layers.GlobalAveragePooling2D()(base_model.output)\n",
    "    dropout = Dropout(dropout_rate)(avg)\n",
    "    output = tf.keras.layers.Dense(200, activation=\"softmax\")(dropout)\n",
    "    model = tf.keras.Model(inputs=base_model.input, outputs=output)\n",
    "\n",
    "    for layer in base_model.layers:\n",
    "        layer.trainable = False\n",
    "\n",
    "    optimizer = tf.keras.optimizers.Adam(learning_rate=learning_rate)\n",
    "    model.compile(optimizer=optimizer, loss=tf.keras.losses.SparseCategoricalCrossentropy(), metrics=['accuracy'])\n",
    "\n",
    "    return model\n",
    "\n",
    "# Define a grid of hyperparameters to search through\n",
    "param_grid = {\n",
    "    'learning_rate': [0.001, 0.01, 0.1],\n",
    "    'dropout_rate': [0.3, 0.5, 0.7]\n",
    "}\n",
    "\n",
    "best_val_accuracy = 0\n",
    "best_params = {}\n",
    "\n",
    "# Iterate through each combination of hyperparameters\n",
    "for params in ParameterGrid(param_grid):\n",
    "    print(f\"Training with params: {params}\")\n",
    "    \n",
    "    # Create and compile the model with current hyperparameters\n",
    "    model = create_model(params['learning_rate'], params['dropout_rate'])\n",
    "    \n",
    "    # Train the model for one epoch\n",
    "    history = model.fit(\n",
    "        X_train,\n",
    "        y_train,\n",
    "        epochs=5,\n",
    "        validation_data=(X_val, y_val)  # Set verbose to 0 to avoid printing training progress\n",
    "    )\n",
    "    \n",
    "    # Evaluate the model on the validation set\n",
    "    val_accuracy = history.history['val_accuracy'][0]\n",
    "    print(f\"Validation accuracy: {val_accuracy}\")\n",
    "    \n",
    "    # Check if this set of hyperparameters is the best so far\n",
    "    if val_accuracy > best_val_accuracy:\n",
    "        best_val_accuracy = val_accuracy\n",
    "        best_params = params\n",
    "\n",
    "print(f\"Best validation accuracy: {best_val_accuracy}\")\n",
    "print(f\"Best hyperparameters: {best_params}\")\n"
   ]
  },
  {
   "cell_type": "code",
   "execution_count": 6,
   "metadata": {},
   "outputs": [
    {
     "name": "stderr",
     "output_type": "stream",
     "text": [
      "WARNING:absl:At this time, the v2.11+ optimizer `tf.keras.optimizers.Adam` runs slowly on M1/M2 Macs, please use the legacy Keras optimizer instead, located at `tf.keras.optimizers.legacy.Adam`.\n"
     ]
    }
   ],
   "source": [
    "# Model architecture\n",
    "import tensorflow as tf\n",
    "from tensorflow.keras.layers import Dropout, Dense, GlobalAveragePooling2D\n",
    "from tensorflow.keras import regularizers\n",
    "base_model = tf.keras.applications.xception.Xception(weights=\"imagenet\", include_top=False)\n",
    "avg = tf.keras.layers.GlobalAveragePooling2D()(base_model.output)\n",
    "dropout = Dropout(0.3)(avg) \n",
    "output = tf.keras.layers.Dense(200, activation=\"softmax\")(dropout)\n",
    "model = tf.keras.Model(inputs=base_model.input, outputs=output)\n",
    "\n",
    "#output = tf.keras.layers.Dense(200, activation=\"softmax\")(dropout)\n",
    "model = tf.keras.Model(inputs=base_model.input, outputs=output)\n",
    "\n",
    "for layer in base_model.layers:\n",
    "    layer.trainable = False\n",
    "    \n",
    "# Compile the model\n",
    "optimizer = tf.keras.optimizers.Adam(learning_rate=0.001)\n",
    "model.compile(optimizer=optimizer, loss=tf.keras.losses.SparseCategoricalCrossentropy(), metrics=['accuracy'])\n",
    "\n",
    "# Implement early stopping\n",
    "early_stopping = EarlyStopping(monitor='val_loss', patience=3, restore_best_weights=True)"
   ]
  },
  {
   "cell_type": "code",
   "execution_count": 5,
   "metadata": {},
   "outputs": [
    {
     "name": "stdout",
     "output_type": "stream",
     "text": [
      "Epoch 1/30\n",
      "99/99 [==============================] - 213s 2s/step - loss: 4.1784 - accuracy: 0.1924 - val_loss: 3.1652 - val_accuracy: 0.3193\n",
      "Epoch 2/30\n",
      "99/99 [==============================] - 204s 2s/step - loss: 2.5016 - accuracy: 0.4838 - val_loss: 2.4705 - val_accuracy: 0.4338\n",
      "Epoch 3/30\n",
      "99/99 [==============================] - 202s 2s/step - loss: 1.8580 - accuracy: 0.6242 - val_loss: 2.1302 - val_accuracy: 0.4847\n",
      "Epoch 4/30\n",
      "99/99 [==============================] - 201s 2s/step - loss: 1.4834 - accuracy: 0.7108 - val_loss: 1.9386 - val_accuracy: 0.5305\n",
      "Epoch 5/30\n",
      "99/99 [==============================] - 199s 2s/step - loss: 1.2434 - accuracy: 0.7650 - val_loss: 1.8184 - val_accuracy: 0.5382\n",
      "Epoch 6/30\n",
      "99/99 [==============================] - 200s 2s/step - loss: 1.0642 - accuracy: 0.8080 - val_loss: 1.7202 - val_accuracy: 0.5623\n",
      "Epoch 7/30\n",
      "99/99 [==============================] - 201s 2s/step - loss: 0.9349 - accuracy: 0.8303 - val_loss: 1.6465 - val_accuracy: 0.5852\n",
      "Epoch 8/30\n",
      "99/99 [==============================] - 201s 2s/step - loss: 0.8274 - accuracy: 0.8615 - val_loss: 1.6215 - val_accuracy: 0.5662\n",
      "Epoch 9/30\n",
      "99/99 [==============================] - 199s 2s/step - loss: 0.7420 - accuracy: 0.8793 - val_loss: 1.5946 - val_accuracy: 0.5687\n",
      "Epoch 10/30\n",
      "99/99 [==============================] - 209s 2s/step - loss: 0.6588 - accuracy: 0.8981 - val_loss: 1.5639 - val_accuracy: 0.5751\n",
      "Epoch 11/30\n",
      "99/99 [==============================] - 203s 2s/step - loss: 0.6009 - accuracy: 0.9166 - val_loss: 1.5256 - val_accuracy: 0.5891\n",
      "Epoch 12/30\n",
      "99/99 [==============================] - 201s 2s/step - loss: 0.5494 - accuracy: 0.9207 - val_loss: 1.5239 - val_accuracy: 0.5852\n",
      "Epoch 13/30\n",
      "99/99 [==============================] - 203s 2s/step - loss: 0.5018 - accuracy: 0.9360 - val_loss: 1.5288 - val_accuracy: 0.5814\n",
      "Epoch 14/30\n",
      "99/99 [==============================] - 202s 2s/step - loss: 0.4508 - accuracy: 0.9449 - val_loss: 1.4877 - val_accuracy: 0.5827\n",
      "Epoch 15/30\n",
      "99/99 [==============================] - 199s 2s/step - loss: 0.4228 - accuracy: 0.9471 - val_loss: 1.4871 - val_accuracy: 0.5929\n",
      "Epoch 16/30\n",
      "99/99 [==============================] - 199s 2s/step - loss: 0.3956 - accuracy: 0.9475 - val_loss: 1.4831 - val_accuracy: 0.5903\n",
      "Epoch 17/30\n",
      "99/99 [==============================] - 201s 2s/step - loss: 0.3605 - accuracy: 0.9643 - val_loss: 1.4789 - val_accuracy: 0.5980\n",
      "Epoch 18/30\n",
      "99/99 [==============================] - 201s 2s/step - loss: 0.3350 - accuracy: 0.9624 - val_loss: 1.4739 - val_accuracy: 0.5992\n",
      "Epoch 19/30\n",
      "99/99 [==============================] - 204s 2s/step - loss: 0.3131 - accuracy: 0.9685 - val_loss: 1.4696 - val_accuracy: 0.5967\n",
      "Epoch 20/30\n",
      "99/99 [==============================] - 201s 2s/step - loss: 0.2896 - accuracy: 0.9758 - val_loss: 1.4618 - val_accuracy: 0.6018\n",
      "Epoch 21/30\n",
      "99/99 [==============================] - 201s 2s/step - loss: 0.2714 - accuracy: 0.9774 - val_loss: 1.4756 - val_accuracy: 0.5891\n",
      "Epoch 22/30\n",
      "99/99 [==============================] - 200s 2s/step - loss: 0.2546 - accuracy: 0.9777 - val_loss: 1.4639 - val_accuracy: 0.5891\n",
      "Epoch 23/30\n",
      "99/99 [==============================] - 202s 2s/step - loss: 0.2367 - accuracy: 0.9847 - val_loss: 1.4583 - val_accuracy: 0.6018\n",
      "Epoch 24/30\n",
      "99/99 [==============================] - 201s 2s/step - loss: 0.2276 - accuracy: 0.9828 - val_loss: 1.4673 - val_accuracy: 0.5992\n",
      "Epoch 25/30\n",
      "99/99 [==============================] - 198s 2s/step - loss: 0.2147 - accuracy: 0.9873 - val_loss: 1.4689 - val_accuracy: 0.6005\n",
      "Epoch 26/30\n",
      "99/99 [==============================] - 199s 2s/step - loss: 0.1983 - accuracy: 0.9854 - val_loss: 1.4642 - val_accuracy: 0.5941\n"
     ]
    },
    {
     "data": {
      "text/plain": [
       "<keras.src.callbacks.History at 0x299b97b10>"
      ]
     },
     "execution_count": 5,
     "metadata": {},
     "output_type": "execute_result"
    }
   ],
   "source": [
    "# Train the model with early stopping\n",
    "model.fit(\n",
    "    X_train,\n",
    "    y_train,\n",
    "    epochs=epoch,\n",
    "    validation_data=(X_val, y_val),\n",
    "    callbacks=[early_stopping] \n",
    ")"
   ]
  },
  {
   "cell_type": "code",
   "execution_count": 6,
   "metadata": {},
   "outputs": [],
   "source": [
    "# Load test data paths\n",
    "test_df = pd.read_csv(\"test_images_path.csv\")\n",
    "test_images = os.path.join(script_dir, 'test_images')\n",
    "X_test, _ = load_and_preprocess_images(test_df, test_images, target_size)"
   ]
  },
  {
   "cell_type": "code",
   "execution_count": 7,
   "metadata": {},
   "outputs": [
    {
     "name": "stdout",
     "output_type": "stream",
     "text": [
      "125/125 [==============================] - 213s 2s/step\n"
     ]
    }
   ],
   "source": [
    "# Make predictions\n",
    "predictions = model.predict(X_test)\n",
    "\n",
    "# Convert predictions to class labels\n",
    "predicted_labels = np.argmax(predictions, axis=1) + 1\n",
    "\n",
    "# Update the 'label' column in the test dataframe with the predicted labels\n",
    "test_df['label'] = predicted_labels\n",
    "\n",
    "selected_columns = ['id', 'label']\n",
    "test_df_selected = test_df[selected_columns]\n",
    "\n",
    "# Generate a timestamp for the filename\n",
    "current_datetime = datetime.datetime.now()\n",
    "timestamp = current_datetime.strftime(\"%Y%m%d_%H%M\")\n",
    "file_name = f\"submission_{timestamp}.csv\"\n",
    "\n",
    "# Define the folder for submissions\n",
    "submissions_folder = os.path.join(script_dir, 'submissions')\n",
    "\n",
    "# Specify the full file path\n",
    "file_path = os.path.join(submissions_folder, file_name)\n",
    "\n",
    "# Save the final submission file\n",
    "test_df_selected.to_csv(file_path, index=False)"
   ]
  },
  {
   "cell_type": "code",
   "execution_count": null,
   "metadata": {},
   "outputs": [],
   "source": []
  },
  {
   "cell_type": "code",
   "execution_count": null,
   "metadata": {},
   "outputs": [],
   "source": [
    "from tensorflow.keras.applications import InceptionV3\n",
    "from tensorflow.keras.layers import Flatten, Dense, BatchNormalization\n",
    "from tensorflow.keras.models import Sequential\n",
    "from tensorflow.keras.optimizers import Adam\n",
    "from tensorflow.keras import regularizers\n",
    "from sklearn.model_selection import GridSearchCV\n",
    "\n",
    "# Define a function to create the model\n",
    "def create_model(learning_rate=0.001):\n",
    "    base_model = InceptionV3(weights='imagenet', include_top=False, input_shape=(299, 299, 3))\n",
    "    for layer in base_model.layers:\n",
    "        layer.trainable = False\n",
    "\n",
    "    base_model = tf.keras.applications.xception.Xception(weights=\"imagenet\", include_top=False)\n",
    "    avg = tf.keras.layers.GlobalAveragePooling2D()(base_model.output)\n",
    "    dropout = tf.keras.layers.Dropout(0.5)(avg)\n",
    "    output = tf.keras.layers.Dense(200, activation=\"softmax\")(dropout)\n",
    "    model = tf.keras.Model(inputs=base_model.input, outputs=output)\n",
    "\n",
    "    optimizer = Adam(learning_rate=learning_rate)\n",
    "    model.compile(optimizer=optimizer, loss='sparse_categorical_crossentropy', metrics=['accuracy'])\n",
    "    return model\n",
    "\n",
    "# Define hyperparameters to search\n",
    "param_grid = {\n",
    "    'learning_rate': [0.001, 0.01]\n",
    "}\n",
    "\n",
    "# Create a KerasClassifier based on the defined model\n",
    "keras_model = create_model()\n",
    "keras_classifier = GridSearchCV(estimator=keras_model, param_grid=param_grid, cv=3)\n",
    "\n",
    "# Train the model with GridSearchCV\n",
    "keras_classifier.fit(X_train, y_train)\n",
    "\n",
    "# Get the best parameters and best score\n",
    "best_params = keras_classifier.best_params_\n",
    "best_score = keras_classifier.best_score_\n",
    "\n",
    "print(\"Best parameters:\", best_params)\n",
    "print(\"Best score:\", best_score)\n"
   ]
  },
  {
   "cell_type": "code",
   "execution_count": 9,
   "metadata": {},
   "outputs": [
    {
     "name": "stderr",
     "output_type": "stream",
     "text": [
      "WARNING:absl:At this time, the v2.11+ optimizer `tf.keras.optimizers.Adam` runs slowly on M1/M2 Macs, please use the legacy Keras optimizer instead, located at `tf.keras.optimizers.legacy.Adam`.\n"
     ]
    },
    {
     "ename": "KeyboardInterrupt",
     "evalue": "",
     "output_type": "error",
     "traceback": [
      "\u001b[0;31m---------------------------------------------------------------------------\u001b[0m",
      "\u001b[0;31mKeyboardInterrupt\u001b[0m                         Traceback (most recent call last)",
      "\u001b[1;32m/Users/alinabaciu/Desktop/feather-in-focus/BIRDeep.ipynb Cell 4\u001b[0m line \u001b[0;36m4\n\u001b[1;32m     <a href='vscode-notebook-cell:/Users/alinabaciu/Desktop/feather-in-focus/BIRDeep.ipynb#X12sZmlsZQ%3D%3D?line=41'>42</a>\u001b[0m model \u001b[39m=\u001b[39m create_model(dropout_rate\u001b[39m=\u001b[39mdropout_rate, learning_rate\u001b[39m=\u001b[39mlearning_rate)\n\u001b[1;32m     <a href='vscode-notebook-cell:/Users/alinabaciu/Desktop/feather-in-focus/BIRDeep.ipynb#X12sZmlsZQ%3D%3D?line=43'>44</a>\u001b[0m \u001b[39m# Train the model\u001b[39;00m\n\u001b[0;32m---> <a href='vscode-notebook-cell:/Users/alinabaciu/Desktop/feather-in-focus/BIRDeep.ipynb#X12sZmlsZQ%3D%3D?line=44'>45</a>\u001b[0m model\u001b[39m.\u001b[39;49mfit(X_cv_train, y_cv_train, epochs\u001b[39m=\u001b[39;49mepoch, batch_size\u001b[39m=\u001b[39;49mbatch_size, verbose\u001b[39m=\u001b[39;49m\u001b[39m0\u001b[39;49m)\n\u001b[1;32m     <a href='vscode-notebook-cell:/Users/alinabaciu/Desktop/feather-in-focus/BIRDeep.ipynb#X12sZmlsZQ%3D%3D?line=46'>47</a>\u001b[0m \u001b[39m# Evaluate on validation data\u001b[39;00m\n\u001b[1;32m     <a href='vscode-notebook-cell:/Users/alinabaciu/Desktop/feather-in-focus/BIRDeep.ipynb#X12sZmlsZQ%3D%3D?line=47'>48</a>\u001b[0m _, acc \u001b[39m=\u001b[39m model\u001b[39m.\u001b[39mevaluate(X_cv_val, y_cv_val, verbose\u001b[39m=\u001b[39m\u001b[39m0\u001b[39m)\n",
      "File \u001b[0;32m/Library/Frameworks/Python.framework/Versions/3.11/lib/python3.11/site-packages/keras/src/utils/traceback_utils.py:65\u001b[0m, in \u001b[0;36mfilter_traceback.<locals>.error_handler\u001b[0;34m(*args, **kwargs)\u001b[0m\n\u001b[1;32m     63\u001b[0m filtered_tb \u001b[39m=\u001b[39m \u001b[39mNone\u001b[39;00m\n\u001b[1;32m     64\u001b[0m \u001b[39mtry\u001b[39;00m:\n\u001b[0;32m---> 65\u001b[0m     \u001b[39mreturn\u001b[39;00m fn(\u001b[39m*\u001b[39;49margs, \u001b[39m*\u001b[39;49m\u001b[39m*\u001b[39;49mkwargs)\n\u001b[1;32m     66\u001b[0m \u001b[39mexcept\u001b[39;00m \u001b[39mException\u001b[39;00m \u001b[39mas\u001b[39;00m e:\n\u001b[1;32m     67\u001b[0m     filtered_tb \u001b[39m=\u001b[39m _process_traceback_frames(e\u001b[39m.\u001b[39m__traceback__)\n",
      "File \u001b[0;32m/Library/Frameworks/Python.framework/Versions/3.11/lib/python3.11/site-packages/keras/src/engine/training.py:1807\u001b[0m, in \u001b[0;36mModel.fit\u001b[0;34m(self, x, y, batch_size, epochs, verbose, callbacks, validation_split, validation_data, shuffle, class_weight, sample_weight, initial_epoch, steps_per_epoch, validation_steps, validation_batch_size, validation_freq, max_queue_size, workers, use_multiprocessing)\u001b[0m\n\u001b[1;32m   1799\u001b[0m \u001b[39mwith\u001b[39;00m tf\u001b[39m.\u001b[39mprofiler\u001b[39m.\u001b[39mexperimental\u001b[39m.\u001b[39mTrace(\n\u001b[1;32m   1800\u001b[0m     \u001b[39m\"\u001b[39m\u001b[39mtrain\u001b[39m\u001b[39m\"\u001b[39m,\n\u001b[1;32m   1801\u001b[0m     epoch_num\u001b[39m=\u001b[39mepoch,\n\u001b[0;32m   (...)\u001b[0m\n\u001b[1;32m   1804\u001b[0m     _r\u001b[39m=\u001b[39m\u001b[39m1\u001b[39m,\n\u001b[1;32m   1805\u001b[0m ):\n\u001b[1;32m   1806\u001b[0m     callbacks\u001b[39m.\u001b[39mon_train_batch_begin(step)\n\u001b[0;32m-> 1807\u001b[0m     tmp_logs \u001b[39m=\u001b[39m \u001b[39mself\u001b[39;49m\u001b[39m.\u001b[39;49mtrain_function(iterator)\n\u001b[1;32m   1808\u001b[0m     \u001b[39mif\u001b[39;00m data_handler\u001b[39m.\u001b[39mshould_sync:\n\u001b[1;32m   1809\u001b[0m         context\u001b[39m.\u001b[39masync_wait()\n",
      "File \u001b[0;32m/Library/Frameworks/Python.framework/Versions/3.11/lib/python3.11/site-packages/tensorflow/python/util/traceback_utils.py:150\u001b[0m, in \u001b[0;36mfilter_traceback.<locals>.error_handler\u001b[0;34m(*args, **kwargs)\u001b[0m\n\u001b[1;32m    148\u001b[0m filtered_tb \u001b[39m=\u001b[39m \u001b[39mNone\u001b[39;00m\n\u001b[1;32m    149\u001b[0m \u001b[39mtry\u001b[39;00m:\n\u001b[0;32m--> 150\u001b[0m   \u001b[39mreturn\u001b[39;00m fn(\u001b[39m*\u001b[39;49margs, \u001b[39m*\u001b[39;49m\u001b[39m*\u001b[39;49mkwargs)\n\u001b[1;32m    151\u001b[0m \u001b[39mexcept\u001b[39;00m \u001b[39mException\u001b[39;00m \u001b[39mas\u001b[39;00m e:\n\u001b[1;32m    152\u001b[0m   filtered_tb \u001b[39m=\u001b[39m _process_traceback_frames(e\u001b[39m.\u001b[39m__traceback__)\n",
      "File \u001b[0;32m/Library/Frameworks/Python.framework/Versions/3.11/lib/python3.11/site-packages/tensorflow/python/eager/polymorphic_function/polymorphic_function.py:832\u001b[0m, in \u001b[0;36mFunction.__call__\u001b[0;34m(self, *args, **kwds)\u001b[0m\n\u001b[1;32m    829\u001b[0m compiler \u001b[39m=\u001b[39m \u001b[39m\"\u001b[39m\u001b[39mxla\u001b[39m\u001b[39m\"\u001b[39m \u001b[39mif\u001b[39;00m \u001b[39mself\u001b[39m\u001b[39m.\u001b[39m_jit_compile \u001b[39melse\u001b[39;00m \u001b[39m\"\u001b[39m\u001b[39mnonXla\u001b[39m\u001b[39m\"\u001b[39m\n\u001b[1;32m    831\u001b[0m \u001b[39mwith\u001b[39;00m OptionalXlaContext(\u001b[39mself\u001b[39m\u001b[39m.\u001b[39m_jit_compile):\n\u001b[0;32m--> 832\u001b[0m   result \u001b[39m=\u001b[39m \u001b[39mself\u001b[39;49m\u001b[39m.\u001b[39;49m_call(\u001b[39m*\u001b[39;49margs, \u001b[39m*\u001b[39;49m\u001b[39m*\u001b[39;49mkwds)\n\u001b[1;32m    834\u001b[0m new_tracing_count \u001b[39m=\u001b[39m \u001b[39mself\u001b[39m\u001b[39m.\u001b[39mexperimental_get_tracing_count()\n\u001b[1;32m    835\u001b[0m without_tracing \u001b[39m=\u001b[39m (tracing_count \u001b[39m==\u001b[39m new_tracing_count)\n",
      "File \u001b[0;32m/Library/Frameworks/Python.framework/Versions/3.11/lib/python3.11/site-packages/tensorflow/python/eager/polymorphic_function/polymorphic_function.py:868\u001b[0m, in \u001b[0;36mFunction._call\u001b[0;34m(self, *args, **kwds)\u001b[0m\n\u001b[1;32m    865\u001b[0m   \u001b[39mself\u001b[39m\u001b[39m.\u001b[39m_lock\u001b[39m.\u001b[39mrelease()\n\u001b[1;32m    866\u001b[0m   \u001b[39m# In this case we have created variables on the first call, so we run the\u001b[39;00m\n\u001b[1;32m    867\u001b[0m   \u001b[39m# defunned version which is guaranteed to never create variables.\u001b[39;00m\n\u001b[0;32m--> 868\u001b[0m   \u001b[39mreturn\u001b[39;00m tracing_compilation\u001b[39m.\u001b[39;49mcall_function(\n\u001b[1;32m    869\u001b[0m       args, kwds, \u001b[39mself\u001b[39;49m\u001b[39m.\u001b[39;49m_no_variable_creation_config\n\u001b[1;32m    870\u001b[0m   )\n\u001b[1;32m    871\u001b[0m \u001b[39melif\u001b[39;00m \u001b[39mself\u001b[39m\u001b[39m.\u001b[39m_variable_creation_config \u001b[39mis\u001b[39;00m \u001b[39mnot\u001b[39;00m \u001b[39mNone\u001b[39;00m:\n\u001b[1;32m    872\u001b[0m   \u001b[39m# Release the lock early so that multiple threads can perform the call\u001b[39;00m\n\u001b[1;32m    873\u001b[0m   \u001b[39m# in parallel.\u001b[39;00m\n\u001b[1;32m    874\u001b[0m   \u001b[39mself\u001b[39m\u001b[39m.\u001b[39m_lock\u001b[39m.\u001b[39mrelease()\n",
      "File \u001b[0;32m/Library/Frameworks/Python.framework/Versions/3.11/lib/python3.11/site-packages/tensorflow/python/eager/polymorphic_function/tracing_compilation.py:139\u001b[0m, in \u001b[0;36mcall_function\u001b[0;34m(args, kwargs, tracing_options)\u001b[0m\n\u001b[1;32m    137\u001b[0m bound_args \u001b[39m=\u001b[39m function\u001b[39m.\u001b[39mfunction_type\u001b[39m.\u001b[39mbind(\u001b[39m*\u001b[39margs, \u001b[39m*\u001b[39m\u001b[39m*\u001b[39mkwargs)\n\u001b[1;32m    138\u001b[0m flat_inputs \u001b[39m=\u001b[39m function\u001b[39m.\u001b[39mfunction_type\u001b[39m.\u001b[39munpack_inputs(bound_args)\n\u001b[0;32m--> 139\u001b[0m \u001b[39mreturn\u001b[39;00m function\u001b[39m.\u001b[39;49m_call_flat(  \u001b[39m# pylint: disable=protected-access\u001b[39;49;00m\n\u001b[1;32m    140\u001b[0m     flat_inputs, captured_inputs\u001b[39m=\u001b[39;49mfunction\u001b[39m.\u001b[39;49mcaptured_inputs\n\u001b[1;32m    141\u001b[0m )\n",
      "File \u001b[0;32m/Library/Frameworks/Python.framework/Versions/3.11/lib/python3.11/site-packages/tensorflow/python/eager/polymorphic_function/concrete_function.py:1323\u001b[0m, in \u001b[0;36mConcreteFunction._call_flat\u001b[0;34m(self, tensor_inputs, captured_inputs)\u001b[0m\n\u001b[1;32m   1319\u001b[0m possible_gradient_type \u001b[39m=\u001b[39m gradients_util\u001b[39m.\u001b[39mPossibleTapeGradientTypes(args)\n\u001b[1;32m   1320\u001b[0m \u001b[39mif\u001b[39;00m (possible_gradient_type \u001b[39m==\u001b[39m gradients_util\u001b[39m.\u001b[39mPOSSIBLE_GRADIENT_TYPES_NONE\n\u001b[1;32m   1321\u001b[0m     \u001b[39mand\u001b[39;00m executing_eagerly):\n\u001b[1;32m   1322\u001b[0m   \u001b[39m# No tape is watching; skip to running the function.\u001b[39;00m\n\u001b[0;32m-> 1323\u001b[0m   \u001b[39mreturn\u001b[39;00m \u001b[39mself\u001b[39;49m\u001b[39m.\u001b[39;49m_inference_function\u001b[39m.\u001b[39;49mcall_preflattened(args)\n\u001b[1;32m   1324\u001b[0m forward_backward \u001b[39m=\u001b[39m \u001b[39mself\u001b[39m\u001b[39m.\u001b[39m_select_forward_and_backward_functions(\n\u001b[1;32m   1325\u001b[0m     args,\n\u001b[1;32m   1326\u001b[0m     possible_gradient_type,\n\u001b[1;32m   1327\u001b[0m     executing_eagerly)\n\u001b[1;32m   1328\u001b[0m forward_function, args_with_tangents \u001b[39m=\u001b[39m forward_backward\u001b[39m.\u001b[39mforward()\n",
      "File \u001b[0;32m/Library/Frameworks/Python.framework/Versions/3.11/lib/python3.11/site-packages/tensorflow/python/eager/polymorphic_function/atomic_function.py:216\u001b[0m, in \u001b[0;36mAtomicFunction.call_preflattened\u001b[0;34m(self, args)\u001b[0m\n\u001b[1;32m    214\u001b[0m \u001b[39mdef\u001b[39;00m \u001b[39mcall_preflattened\u001b[39m(\u001b[39mself\u001b[39m, args: Sequence[core\u001b[39m.\u001b[39mTensor]) \u001b[39m-\u001b[39m\u001b[39m>\u001b[39m Any:\n\u001b[1;32m    215\u001b[0m \u001b[39m  \u001b[39m\u001b[39m\"\"\"Calls with flattened tensor inputs and returns the structured output.\"\"\"\u001b[39;00m\n\u001b[0;32m--> 216\u001b[0m   flat_outputs \u001b[39m=\u001b[39m \u001b[39mself\u001b[39;49m\u001b[39m.\u001b[39;49mcall_flat(\u001b[39m*\u001b[39;49margs)\n\u001b[1;32m    217\u001b[0m   \u001b[39mreturn\u001b[39;00m \u001b[39mself\u001b[39m\u001b[39m.\u001b[39mfunction_type\u001b[39m.\u001b[39mpack_output(flat_outputs)\n",
      "File \u001b[0;32m/Library/Frameworks/Python.framework/Versions/3.11/lib/python3.11/site-packages/tensorflow/python/eager/polymorphic_function/atomic_function.py:251\u001b[0m, in \u001b[0;36mAtomicFunction.call_flat\u001b[0;34m(self, *args)\u001b[0m\n\u001b[1;32m    249\u001b[0m \u001b[39mwith\u001b[39;00m record\u001b[39m.\u001b[39mstop_recording():\n\u001b[1;32m    250\u001b[0m   \u001b[39mif\u001b[39;00m \u001b[39mself\u001b[39m\u001b[39m.\u001b[39m_bound_context\u001b[39m.\u001b[39mexecuting_eagerly():\n\u001b[0;32m--> 251\u001b[0m     outputs \u001b[39m=\u001b[39m \u001b[39mself\u001b[39;49m\u001b[39m.\u001b[39;49m_bound_context\u001b[39m.\u001b[39;49mcall_function(\n\u001b[1;32m    252\u001b[0m         \u001b[39mself\u001b[39;49m\u001b[39m.\u001b[39;49mname,\n\u001b[1;32m    253\u001b[0m         \u001b[39mlist\u001b[39;49m(args),\n\u001b[1;32m    254\u001b[0m         \u001b[39mlen\u001b[39;49m(\u001b[39mself\u001b[39;49m\u001b[39m.\u001b[39;49mfunction_type\u001b[39m.\u001b[39;49mflat_outputs),\n\u001b[1;32m    255\u001b[0m     )\n\u001b[1;32m    256\u001b[0m   \u001b[39melse\u001b[39;00m:\n\u001b[1;32m    257\u001b[0m     outputs \u001b[39m=\u001b[39m make_call_op_in_graph(\n\u001b[1;32m    258\u001b[0m         \u001b[39mself\u001b[39m,\n\u001b[1;32m    259\u001b[0m         \u001b[39mlist\u001b[39m(args),\n\u001b[1;32m    260\u001b[0m         \u001b[39mself\u001b[39m\u001b[39m.\u001b[39m_bound_context\u001b[39m.\u001b[39mfunction_call_options\u001b[39m.\u001b[39mas_attrs(),\n\u001b[1;32m    261\u001b[0m     )\n",
      "File \u001b[0;32m/Library/Frameworks/Python.framework/Versions/3.11/lib/python3.11/site-packages/tensorflow/python/eager/context.py:1486\u001b[0m, in \u001b[0;36mContext.call_function\u001b[0;34m(self, name, tensor_inputs, num_outputs)\u001b[0m\n\u001b[1;32m   1484\u001b[0m cancellation_context \u001b[39m=\u001b[39m cancellation\u001b[39m.\u001b[39mcontext()\n\u001b[1;32m   1485\u001b[0m \u001b[39mif\u001b[39;00m cancellation_context \u001b[39mis\u001b[39;00m \u001b[39mNone\u001b[39;00m:\n\u001b[0;32m-> 1486\u001b[0m   outputs \u001b[39m=\u001b[39m execute\u001b[39m.\u001b[39;49mexecute(\n\u001b[1;32m   1487\u001b[0m       name\u001b[39m.\u001b[39;49mdecode(\u001b[39m\"\u001b[39;49m\u001b[39mutf-8\u001b[39;49m\u001b[39m\"\u001b[39;49m),\n\u001b[1;32m   1488\u001b[0m       num_outputs\u001b[39m=\u001b[39;49mnum_outputs,\n\u001b[1;32m   1489\u001b[0m       inputs\u001b[39m=\u001b[39;49mtensor_inputs,\n\u001b[1;32m   1490\u001b[0m       attrs\u001b[39m=\u001b[39;49mattrs,\n\u001b[1;32m   1491\u001b[0m       ctx\u001b[39m=\u001b[39;49m\u001b[39mself\u001b[39;49m,\n\u001b[1;32m   1492\u001b[0m   )\n\u001b[1;32m   1493\u001b[0m \u001b[39melse\u001b[39;00m:\n\u001b[1;32m   1494\u001b[0m   outputs \u001b[39m=\u001b[39m execute\u001b[39m.\u001b[39mexecute_with_cancellation(\n\u001b[1;32m   1495\u001b[0m       name\u001b[39m.\u001b[39mdecode(\u001b[39m\"\u001b[39m\u001b[39mutf-8\u001b[39m\u001b[39m\"\u001b[39m),\n\u001b[1;32m   1496\u001b[0m       num_outputs\u001b[39m=\u001b[39mnum_outputs,\n\u001b[0;32m   (...)\u001b[0m\n\u001b[1;32m   1500\u001b[0m       cancellation_manager\u001b[39m=\u001b[39mcancellation_context,\n\u001b[1;32m   1501\u001b[0m   )\n",
      "File \u001b[0;32m/Library/Frameworks/Python.framework/Versions/3.11/lib/python3.11/site-packages/tensorflow/python/eager/execute.py:53\u001b[0m, in \u001b[0;36mquick_execute\u001b[0;34m(op_name, num_outputs, inputs, attrs, ctx, name)\u001b[0m\n\u001b[1;32m     51\u001b[0m \u001b[39mtry\u001b[39;00m:\n\u001b[1;32m     52\u001b[0m   ctx\u001b[39m.\u001b[39mensure_initialized()\n\u001b[0;32m---> 53\u001b[0m   tensors \u001b[39m=\u001b[39m pywrap_tfe\u001b[39m.\u001b[39;49mTFE_Py_Execute(ctx\u001b[39m.\u001b[39;49m_handle, device_name, op_name,\n\u001b[1;32m     54\u001b[0m                                       inputs, attrs, num_outputs)\n\u001b[1;32m     55\u001b[0m \u001b[39mexcept\u001b[39;00m core\u001b[39m.\u001b[39m_NotOkStatusException \u001b[39mas\u001b[39;00m e:\n\u001b[1;32m     56\u001b[0m   \u001b[39mif\u001b[39;00m name \u001b[39mis\u001b[39;00m \u001b[39mnot\u001b[39;00m \u001b[39mNone\u001b[39;00m:\n",
      "\u001b[0;31mKeyboardInterrupt\u001b[0m: "
     ]
    }
   ],
   "source": [
    "# Define hyperparameters\n",
    "dropout_rates = [0.3, 0.5, 0.7]\n",
    "learning_rates = [0.001, 0.01, 0.1]\n",
    "\n",
    "best_score = 0\n",
    "best_params = {}\n",
    "\n",
    "\n",
    "import tensorflow as tf\n",
    "from sklearn.model_selection import cross_val_score\n",
    "from sklearn.model_selection import KFold\n",
    "\n",
    "# Function to create the model\n",
    "def create_model(dropout_rate=0.5, learning_rate=0.001):\n",
    "    base_model = tf.keras.applications.xception.Xception(weights=\"imagenet\", include_top=False)\n",
    "    avg = tf.keras.layers.GlobalAveragePooling2D()(base_model.output)\n",
    "    dropout = tf.keras.layers.Dropout(dropout_rate)(avg)\n",
    "    output = tf.keras.layers.Dense(200, activation=\"softmax\")(dropout)\n",
    "    model = tf.keras.Model(inputs=base_model.input, outputs=output)\n",
    "\n",
    "    for layer in base_model.layers:\n",
    "        layer.trainable = False\n",
    "\n",
    "    optimizer = tf.keras.optimizers.Adam(learning_rate=learning_rate)\n",
    "    model.compile(optimizer=optimizer, loss=tf.keras.losses.SparseCategoricalCrossentropy(), metrics=['accuracy'])\n",
    "    \n",
    "    return model\n",
    "\n",
    "\n",
    "# Loop through hyperparameters and train models\n",
    "for dropout_rate in dropout_rates:\n",
    "    for learning_rate in learning_rates:\n",
    "        # Initialize scores for current hyperparameter combination\n",
    "        scores = []\n",
    "        \n",
    "        # Perform K-Fold cross-validation\n",
    "        kf = KFold(n_splits=3)\n",
    "        for train_index, val_index in kf.split(X_train):\n",
    "            X_cv_train, X_cv_val = X_train[train_index], X_train[val_index]\n",
    "            y_cv_train, y_cv_val = y_train[train_index], y_train[val_index]\n",
    "            \n",
    "            model = create_model(dropout_rate=dropout_rate, learning_rate=learning_rate)\n",
    "            \n",
    "            # Train the model\n",
    "            model.fit(X_cv_train, y_cv_train, epochs=epoch, batch_size=batch_size, verbose=0)\n",
    "            \n",
    "            # Evaluate on validation data\n",
    "            _, acc = model.evaluate(X_cv_val, y_cv_val, verbose=0)\n",
    "            scores.append(acc)\n",
    "        \n",
    "        # Calculate average score for the current hyperparameter combination\n",
    "        avg_score = np.mean(scores)\n",
    "        \n",
    "        # Check if current configuration is the best\n",
    "        if avg_score > best_score:\n",
    "            best_score = avg_score\n",
    "            best_params['dropout_rate'] = dropout_rate\n",
    "            best_params['learning_rate'] = learning_rate\n",
    "\n",
    "# Output best parameters and score\n",
    "print(\"Best Score:\", best_score)\n",
    "print(\"Best Parameters:\", best_params)"
   ]
  },
  {
   "cell_type": "code",
   "execution_count": 5,
   "id": "a6726022-a9ef-440c-8f17-33238fb7160b",
   "metadata": {},
   "outputs": [
    {
     "name": "stderr",
     "output_type": "stream",
     "text": [
      "2023-12-08 15:46:18.927934: I tensorflow/core/platform/cpu_feature_guard.cc:193] This TensorFlow binary is optimized with oneAPI Deep Neural Network Library (oneDNN) to use the following CPU instructions in performance-critical operations:  AVX512_VNNI\n",
      "To enable them in other operations, rebuild TensorFlow with the appropriate compiler flags.\n",
      "2023-12-08 15:46:19.441676: I tensorflow/core/common_runtime/gpu/gpu_device.cc:1613] Created device /job:localhost/replica:0/task:0/device:GPU:0 with 18209 MB memory:  -> device: 0, name: NVIDIA A100-SXM4-40GB MIG 3g.20gb, pci bus id: 0000:32:00.0, compute capability: 8.0\n"
     ]
    }
   ],
   "source": [
    "# Model architecture\n",
    "base_model = tf.keras.applications.xception.Xception(weights=\"imagenet\", include_top=False)\n",
    "avg = tf.keras.layers.GlobalAveragePooling2D()(base_model.output)\n",
    "dropout = Dropout(0.5)(avg) \n",
    "output = tf.keras.layers.Dense(200, activation=\"softmax\")(dropout)\n",
    "model = tf.keras.Model(inputs=base_model.input, outputs=output)\n",
    "\n",
    "for layer in base_model.layers:\n",
    "    layer.trainable = False\n",
    "    \n",
    "# Compile the model\n",
    "optimizer = tf.keras.optimizers.Adam(learning_rate=0.001)\n",
    "model.compile(optimizer=optimizer, loss=tf.keras.losses.SparseCategoricalCrossentropy(), metrics=['accuracy'])\n",
    "\n",
    "# Implement early stopping\n",
    "early_stopping = EarlyStopping(monitor='val_loss', patience=3, restore_best_weights=True)"
   ]
  },
  {
   "cell_type": "code",
   "execution_count": 6,
   "id": "7b05429a-73ac-40b1-98b3-76105ba903eb",
   "metadata": {},
   "outputs": [
    {
     "name": "stdout",
     "output_type": "stream",
     "text": [
      "Epoch 1/20\n"
     ]
    },
    {
     "name": "stderr",
     "output_type": "stream",
     "text": [
      "2023-12-08 15:46:34.260783: I tensorflow/compiler/xla/stream_executor/cuda/cuda_dnn.cc:428] Loaded cuDNN version 8401\n",
      "2023-12-08 15:46:37.512234: I tensorflow/compiler/xla/stream_executor/cuda/cuda_blas.cc:630] TensorFloat-32 will be used for the matrix multiplication. This will only be logged once.\n",
      "2023-12-08 15:46:37.532664: I tensorflow/compiler/xla/service/service.cc:173] XLA service 0x265129b0 initialized for platform CUDA (this does not guarantee that XLA will be used). Devices:\n",
      "2023-12-08 15:46:37.532695: I tensorflow/compiler/xla/service/service.cc:181]   StreamExecutor device (0): NVIDIA A100-SXM4-40GB MIG 3g.20gb, Compute Capability 8.0\n",
      "2023-12-08 15:46:37.560280: I tensorflow/compiler/mlir/tensorflow/utils/dump_mlir_util.cc:268] disabling MLIR crash reproducer, set env var `MLIR_CRASH_REPRODUCER_DIRECTORY` to enable.\n"
     ]
    },
    {
     "name": "stdout",
     "output_type": "stream",
     "text": [
      " 1/99 [..............................] - ETA: 13:53 - loss: 5.4000 - accuracy: 0.0000e+00"
     ]
    },
    {
     "name": "stderr",
     "output_type": "stream",
     "text": [
      "2023-12-08 15:46:37.849943: I tensorflow/compiler/jit/xla_compilation_cache.cc:477] Compiled cluster using XLA!  This line is logged at most once for the lifetime of the process.\n"
     ]
    },
    {
     "name": "stdout",
     "output_type": "stream",
     "text": [
      "99/99 [==============================] - 20s 116ms/step - loss: 4.3191 - accuracy: 0.1691 - val_loss: 3.2647 - val_accuracy: 0.3257\n",
      "Epoch 2/20\n",
      "99/99 [==============================] - 8s 80ms/step - loss: 2.6462 - accuracy: 0.4522 - val_loss: 2.5450 - val_accuracy: 0.4300\n",
      "Epoch 3/20\n",
      "99/99 [==============================] - 8s 81ms/step - loss: 2.0050 - accuracy: 0.5799 - val_loss: 2.2115 - val_accuracy: 0.4809\n",
      "Epoch 4/20\n",
      "99/99 [==============================] - 8s 80ms/step - loss: 1.6280 - accuracy: 0.6669 - val_loss: 2.0168 - val_accuracy: 0.5089\n",
      "Epoch 5/20\n",
      "99/99 [==============================] - 8s 81ms/step - loss: 1.3804 - accuracy: 0.7290 - val_loss: 1.8813 - val_accuracy: 0.5331\n",
      "Epoch 6/20\n",
      "99/99 [==============================] - 8s 80ms/step - loss: 1.2020 - accuracy: 0.7634 - val_loss: 1.7887 - val_accuracy: 0.5496\n",
      "Epoch 7/20\n",
      "99/99 [==============================] - 8s 81ms/step - loss: 1.0612 - accuracy: 0.7959 - val_loss: 1.7123 - val_accuracy: 0.5573\n",
      "Epoch 8/20\n",
      "99/99 [==============================] - 8s 80ms/step - loss: 0.9531 - accuracy: 0.8210 - val_loss: 1.6826 - val_accuracy: 0.5522\n",
      "Epoch 9/20\n",
      "99/99 [==============================] - 8s 81ms/step - loss: 0.8518 - accuracy: 0.8459 - val_loss: 1.6337 - val_accuracy: 0.5712\n",
      "Epoch 10/20\n",
      "99/99 [==============================] - 8s 80ms/step - loss: 0.7839 - accuracy: 0.8646 - val_loss: 1.6096 - val_accuracy: 0.5687\n",
      "Epoch 11/20\n",
      "99/99 [==============================] - 8s 81ms/step - loss: 0.7189 - accuracy: 0.8780 - val_loss: 1.5686 - val_accuracy: 0.5840\n",
      "Epoch 12/20\n",
      "99/99 [==============================] - 8s 80ms/step - loss: 0.6587 - accuracy: 0.8889 - val_loss: 1.5684 - val_accuracy: 0.5903\n",
      "Epoch 13/20\n",
      "99/99 [==============================] - 8s 81ms/step - loss: 0.6184 - accuracy: 0.8943 - val_loss: 1.5607 - val_accuracy: 0.5827\n",
      "Epoch 14/20\n",
      "99/99 [==============================] - 8s 81ms/step - loss: 0.5732 - accuracy: 0.9057 - val_loss: 1.5266 - val_accuracy: 0.5941\n",
      "Epoch 15/20\n",
      "99/99 [==============================] - 8s 81ms/step - loss: 0.5295 - accuracy: 0.9220 - val_loss: 1.5196 - val_accuracy: 0.5802\n",
      "Epoch 16/20\n",
      "99/99 [==============================] - 8s 80ms/step - loss: 0.4984 - accuracy: 0.9197 - val_loss: 1.4981 - val_accuracy: 0.5941\n",
      "Epoch 17/20\n",
      "99/99 [==============================] - 8s 80ms/step - loss: 0.4733 - accuracy: 0.9271 - val_loss: 1.5028 - val_accuracy: 0.5789\n",
      "Epoch 18/20\n",
      "99/99 [==============================] - 8s 81ms/step - loss: 0.4382 - accuracy: 0.9334 - val_loss: 1.4980 - val_accuracy: 0.5738\n",
      "Epoch 19/20\n",
      "99/99 [==============================] - 8s 80ms/step - loss: 0.4104 - accuracy: 0.9408 - val_loss: 1.4983 - val_accuracy: 0.5903\n",
      "Epoch 20/20\n",
      "99/99 [==============================] - 8s 80ms/step - loss: 0.3916 - accuracy: 0.9459 - val_loss: 1.4996 - val_accuracy: 0.5878\n"
     ]
    },
    {
     "data": {
      "text/plain": [
       "<keras.callbacks.History at 0x14caa8981480>"
      ]
     },
     "execution_count": 6,
     "metadata": {},
     "output_type": "execute_result"
    }
   ],
   "source": [
    "# Train the model with early stopping\n",
    "model.fit(\n",
    "    X_train,\n",
    "    y_train,\n",
    "    epochs=epoch,\n",
    "    validation_data=(X_val, y_val),\n",
    "    callbacks=[early_stopping] \n",
    ")"
   ]
  },
  {
   "cell_type": "code",
   "execution_count": 7,
   "id": "2524218f-40fc-447a-94d2-7c8d75c3353f",
   "metadata": {},
   "outputs": [],
   "source": [
    "# Load test data paths\n",
    "test_df = pd.read_csv(\"test_images_path.csv\")\n",
    "test_images = os.path.join(script_dir, 'test_images')\n",
    "X_test, _ = load_and_preprocess_images(test_df, test_images, target_size)"
   ]
  },
  {
   "cell_type": "code",
   "execution_count": 8,
   "id": "c2ae9a9c-8312-48c3-a4c5-6c465ac62949",
   "metadata": {},
   "outputs": [
    {
     "name": "stdout",
     "output_type": "stream",
     "text": [
      "125/125 [==============================] - 9s 62ms/step\n"
     ]
    }
   ],
   "source": [
    "# Make predictions\n",
    "predictions = model.predict(X_test)\n",
    "\n",
    "# Convert predictions to class labels\n",
    "predicted_labels = np.argmax(predictions, axis=1) + 1\n",
    "\n",
    "# Update the 'label' column in the test dataframe with the predicted labels\n",
    "test_df['label'] = predicted_labels\n",
    "\n",
    "selected_columns = ['id', 'label']\n",
    "test_df_selected = test_df[selected_columns]\n",
    "\n",
    "# Generate a timestamp for the filename\n",
    "current_datetime = datetime.datetime.now()\n",
    "timestamp = current_datetime.strftime(\"%Y%m%d_%H%M\")\n",
    "file_name = f\"submission_{timestamp}.csv\"\n",
    "\n",
    "# Define the folder for submissions\n",
    "submissions_folder = os.path.join(script_dir, 'submissions')\n",
    "\n",
    "# Specify the full file path\n",
    "file_path = os.path.join(submissions_folder, file_name)\n",
    "\n",
    "# Save the final submission file\n",
    "test_df_selected.to_csv(file_path, index=False)\n"
   ]
  }
 ],
 "metadata": {
  "kernelspec": {
   "display_name": "Python 3 (ipykernel)",
   "language": "python",
   "name": "python3"
  },
  "language_info": {
   "codemirror_mode": {
    "name": "ipython",
    "version": 3
   },
   "file_extension": ".py",
   "mimetype": "text/x-python",
   "name": "python",
   "nbconvert_exporter": "python",
   "pygments_lexer": "ipython3",
   "version": "3.11.1"
  }
 },
 "nbformat": 4,
 "nbformat_minor": 5
}
