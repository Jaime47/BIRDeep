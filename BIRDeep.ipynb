{
 "cells": [
  {
   "cell_type": "code",
   "execution_count": 1,
   "id": "c33bae8e-712d-4fec-adbe-31228aaa3408",
   "metadata": {},
   "outputs": [
    {
     "name": "stderr",
     "output_type": "stream",
     "text": [
      "2023-12-08 15:44:44.692927: I tensorflow/core/platform/cpu_feature_guard.cc:193] This TensorFlow binary is optimized with oneAPI Deep Neural Network Library (oneDNN) to use the following CPU instructions in performance-critical operations:  AVX512_VNNI\n",
      "To enable them in other operations, rebuild TensorFlow with the appropriate compiler flags.\n",
      "2023-12-08 15:44:45.099122: I tensorflow/core/util/port.cc:104] oneDNN custom operations are on. You may see slightly different numerical results due to floating-point round-off errors from different computation orders. To turn them off, set the environment variable `TF_ENABLE_ONEDNN_OPTS=0`.\n"
     ]
    }
   ],
   "source": [
    "import numpy as np\n",
    "import pandas as pd\n",
    "import os\n",
    "import cv2\n",
    "import matplotlib.pyplot as plt\n",
    "import tensorflow as tf\n",
    "from tensorflow.keras.models import Sequential\n",
    "from tensorflow.keras.layers import RandomFlip, RandomRotation, RandomContrast, Dropout\n",
    "from tensorflow.keras.preprocessing.image import ImageDataGenerator\n",
    "from tensorflow.keras.losses import SparseCategoricalCrossentropy\n",
    "from tensorflow.keras.callbacks import EarlyStopping\n",
    "from tensorflow.keras.regularizers import l1, l2\n",
    "from sklearn.model_selection import train_test_split\n",
    "from sklearn.utils import shuffle\n",
    "import datetime"
   ]
  },
  {
   "cell_type": "code",
   "execution_count": 2,
   "id": "4f7369ac-8b90-4cd7-898a-352a89b966df",
   "metadata": {},
   "outputs": [],
   "source": [
    "# Set variables\n",
    "epoch = 20\n",
    "batch_size = 16\n",
    "target_size = (299, 299)\n",
    "\n",
    "# Load and preprocess images\n",
    "def load_and_preprocess_images(data_df, image_folder, target_size):\n",
    "    X = []\n",
    "    y = []\n",
    "\n",
    "    for index, row in data_df.iterrows():\n",
    "        img_filename = row['image_path'][1:]  # Remove leading \"/\"\n",
    "        img_path = os.path.join(image_folder, img_filename)\n",
    "        label = row['label'] - 1\n",
    "\n",
    "        img = cv2.imread(img_path)\n",
    "        img = cv2.cvtColor(img, cv2.COLOR_BGR2RGB)\n",
    "        img = cv2.resize(img, target_size)\n",
    "        img = img / 255.0\n",
    "\n",
    "        X.append(img)\n",
    "        y.append(label)\n",
    "\n",
    "    return np.array(X), np.array(y)"
   ]
  },
  {
   "cell_type": "code",
   "execution_count": 4,
   "id": "fa84e189-6ff5-49ac-8540-7e657a2ac277",
   "metadata": {},
   "outputs": [],
   "source": [
    "# Load train data\n",
    "train_df = pd.read_csv(\"train_images.csv\")\n",
    "script_dir = os.getcwd()\n",
    "train_images = os.path.join(script_dir, 'train_images')\n",
    "\n",
    "X_train, y_train = load_and_preprocess_images(train_df, train_images, target_size)\n",
    "\n",
    "# Shuffle the data\n",
    "X_train, y_train = shuffle(X_train, y_train, random_state=42)\n",
    "\n",
    "# Split data into training and validation sets\n",
    "X_train, X_val, y_train, y_val = train_test_split(X_train, y_train, test_size=0.2, random_state=42)"
   ]
  },
  {
   "cell_type": "code",
   "execution_count": 5,
   "id": "a6726022-a9ef-440c-8f17-33238fb7160b",
   "metadata": {},
   "outputs": [
    {
     "name": "stderr",
     "output_type": "stream",
     "text": [
      "2023-12-08 15:46:18.927934: I tensorflow/core/platform/cpu_feature_guard.cc:193] This TensorFlow binary is optimized with oneAPI Deep Neural Network Library (oneDNN) to use the following CPU instructions in performance-critical operations:  AVX512_VNNI\n",
      "To enable them in other operations, rebuild TensorFlow with the appropriate compiler flags.\n",
      "2023-12-08 15:46:19.441676: I tensorflow/core/common_runtime/gpu/gpu_device.cc:1613] Created device /job:localhost/replica:0/task:0/device:GPU:0 with 18209 MB memory:  -> device: 0, name: NVIDIA A100-SXM4-40GB MIG 3g.20gb, pci bus id: 0000:32:00.0, compute capability: 8.0\n"
     ]
    }
   ],
   "source": [
    "# Model architecture\n",
    "base_model = tf.keras.applications.xception.Xception(weights=\"imagenet\", include_top=False)\n",
    "avg = tf.keras.layers.GlobalAveragePooling2D()(base_model.output)\n",
    "dropout = Dropout(0.5)(avg) \n",
    "output = tf.keras.layers.Dense(200, activation=\"softmax\")(dropout)\n",
    "model = tf.keras.Model(inputs=base_model.input, outputs=output)\n",
    "\n",
    "for layer in base_model.layers:\n",
    "    layer.trainable = False\n",
    "    \n",
    "# Compile the model\n",
    "optimizer = tf.keras.optimizers.Adam(learning_rate=0.001)\n",
    "model.compile(optimizer=optimizer, loss=tf.keras.losses.SparseCategoricalCrossentropy(), metrics=['accuracy'])\n",
    "\n",
    "# Implement early stopping\n",
    "early_stopping = EarlyStopping(monitor='val_loss', patience=3, restore_best_weights=True)"
   ]
  },
  {
   "cell_type": "code",
   "execution_count": 6,
   "id": "7b05429a-73ac-40b1-98b3-76105ba903eb",
   "metadata": {},
   "outputs": [
    {
     "name": "stdout",
     "output_type": "stream",
     "text": [
      "Epoch 1/20\n"
     ]
    },
    {
     "name": "stderr",
     "output_type": "stream",
     "text": [
      "2023-12-08 15:46:34.260783: I tensorflow/compiler/xla/stream_executor/cuda/cuda_dnn.cc:428] Loaded cuDNN version 8401\n",
      "2023-12-08 15:46:37.512234: I tensorflow/compiler/xla/stream_executor/cuda/cuda_blas.cc:630] TensorFloat-32 will be used for the matrix multiplication. This will only be logged once.\n",
      "2023-12-08 15:46:37.532664: I tensorflow/compiler/xla/service/service.cc:173] XLA service 0x265129b0 initialized for platform CUDA (this does not guarantee that XLA will be used). Devices:\n",
      "2023-12-08 15:46:37.532695: I tensorflow/compiler/xla/service/service.cc:181]   StreamExecutor device (0): NVIDIA A100-SXM4-40GB MIG 3g.20gb, Compute Capability 8.0\n",
      "2023-12-08 15:46:37.560280: I tensorflow/compiler/mlir/tensorflow/utils/dump_mlir_util.cc:268] disabling MLIR crash reproducer, set env var `MLIR_CRASH_REPRODUCER_DIRECTORY` to enable.\n"
     ]
    },
    {
     "name": "stdout",
     "output_type": "stream",
     "text": [
      " 1/99 [..............................] - ETA: 13:53 - loss: 5.4000 - accuracy: 0.0000e+00"
     ]
    },
    {
     "name": "stderr",
     "output_type": "stream",
     "text": [
      "2023-12-08 15:46:37.849943: I tensorflow/compiler/jit/xla_compilation_cache.cc:477] Compiled cluster using XLA!  This line is logged at most once for the lifetime of the process.\n"
     ]
    },
    {
     "name": "stdout",
     "output_type": "stream",
     "text": [
      "99/99 [==============================] - 20s 116ms/step - loss: 4.3191 - accuracy: 0.1691 - val_loss: 3.2647 - val_accuracy: 0.3257\n",
      "Epoch 2/20\n",
      "99/99 [==============================] - 8s 80ms/step - loss: 2.6462 - accuracy: 0.4522 - val_loss: 2.5450 - val_accuracy: 0.4300\n",
      "Epoch 3/20\n",
      "99/99 [==============================] - 8s 81ms/step - loss: 2.0050 - accuracy: 0.5799 - val_loss: 2.2115 - val_accuracy: 0.4809\n",
      "Epoch 4/20\n",
      "99/99 [==============================] - 8s 80ms/step - loss: 1.6280 - accuracy: 0.6669 - val_loss: 2.0168 - val_accuracy: 0.5089\n",
      "Epoch 5/20\n",
      "99/99 [==============================] - 8s 81ms/step - loss: 1.3804 - accuracy: 0.7290 - val_loss: 1.8813 - val_accuracy: 0.5331\n",
      "Epoch 6/20\n",
      "99/99 [==============================] - 8s 80ms/step - loss: 1.2020 - accuracy: 0.7634 - val_loss: 1.7887 - val_accuracy: 0.5496\n",
      "Epoch 7/20\n",
      "99/99 [==============================] - 8s 81ms/step - loss: 1.0612 - accuracy: 0.7959 - val_loss: 1.7123 - val_accuracy: 0.5573\n",
      "Epoch 8/20\n",
      "99/99 [==============================] - 8s 80ms/step - loss: 0.9531 - accuracy: 0.8210 - val_loss: 1.6826 - val_accuracy: 0.5522\n",
      "Epoch 9/20\n",
      "99/99 [==============================] - 8s 81ms/step - loss: 0.8518 - accuracy: 0.8459 - val_loss: 1.6337 - val_accuracy: 0.5712\n",
      "Epoch 10/20\n",
      "99/99 [==============================] - 8s 80ms/step - loss: 0.7839 - accuracy: 0.8646 - val_loss: 1.6096 - val_accuracy: 0.5687\n",
      "Epoch 11/20\n",
      "99/99 [==============================] - 8s 81ms/step - loss: 0.7189 - accuracy: 0.8780 - val_loss: 1.5686 - val_accuracy: 0.5840\n",
      "Epoch 12/20\n",
      "99/99 [==============================] - 8s 80ms/step - loss: 0.6587 - accuracy: 0.8889 - val_loss: 1.5684 - val_accuracy: 0.5903\n",
      "Epoch 13/20\n",
      "99/99 [==============================] - 8s 81ms/step - loss: 0.6184 - accuracy: 0.8943 - val_loss: 1.5607 - val_accuracy: 0.5827\n",
      "Epoch 14/20\n",
      "99/99 [==============================] - 8s 81ms/step - loss: 0.5732 - accuracy: 0.9057 - val_loss: 1.5266 - val_accuracy: 0.5941\n",
      "Epoch 15/20\n",
      "99/99 [==============================] - 8s 81ms/step - loss: 0.5295 - accuracy: 0.9220 - val_loss: 1.5196 - val_accuracy: 0.5802\n",
      "Epoch 16/20\n",
      "99/99 [==============================] - 8s 80ms/step - loss: 0.4984 - accuracy: 0.9197 - val_loss: 1.4981 - val_accuracy: 0.5941\n",
      "Epoch 17/20\n",
      "99/99 [==============================] - 8s 80ms/step - loss: 0.4733 - accuracy: 0.9271 - val_loss: 1.5028 - val_accuracy: 0.5789\n",
      "Epoch 18/20\n",
      "99/99 [==============================] - 8s 81ms/step - loss: 0.4382 - accuracy: 0.9334 - val_loss: 1.4980 - val_accuracy: 0.5738\n",
      "Epoch 19/20\n",
      "99/99 [==============================] - 8s 80ms/step - loss: 0.4104 - accuracy: 0.9408 - val_loss: 1.4983 - val_accuracy: 0.5903\n",
      "Epoch 20/20\n",
      "99/99 [==============================] - 8s 80ms/step - loss: 0.3916 - accuracy: 0.9459 - val_loss: 1.4996 - val_accuracy: 0.5878\n"
     ]
    },
    {
     "data": {
      "text/plain": [
       "<keras.callbacks.History at 0x14caa8981480>"
      ]
     },
     "execution_count": 6,
     "metadata": {},
     "output_type": "execute_result"
    }
   ],
   "source": [
    "# Train the model with early stopping\n",
    "model.fit(\n",
    "    X_train,\n",
    "    y_train,\n",
    "    epochs=epoch,\n",
    "    validation_data=(X_val, y_val),\n",
    "    callbacks=[early_stopping] \n",
    ")"
   ]
  },
  {
   "cell_type": "code",
   "execution_count": 7,
   "id": "2524218f-40fc-447a-94d2-7c8d75c3353f",
   "metadata": {},
   "outputs": [],
   "source": [
    "# Load test data paths\n",
    "test_df = pd.read_csv(\"test_images_path.csv\")\n",
    "test_images = os.path.join(script_dir, 'test_images')\n",
    "X_test, _ = load_and_preprocess_images(test_df, test_images, target_size)"
   ]
  },
  {
   "cell_type": "code",
   "execution_count": 8,
   "id": "c2ae9a9c-8312-48c3-a4c5-6c465ac62949",
   "metadata": {},
   "outputs": [
    {
     "name": "stdout",
     "output_type": "stream",
     "text": [
      "125/125 [==============================] - 9s 62ms/step\n"
     ]
    }
   ],
   "source": [
    "# Make predictions\n",
    "predictions = model.predict(X_test)\n",
    "\n",
    "# Convert predictions to class labels\n",
    "predicted_labels = np.argmax(predictions, axis=1) + 1\n",
    "\n",
    "# Update the 'label' column in the test dataframe with the predicted labels\n",
    "test_df['label'] = predicted_labels\n",
    "\n",
    "selected_columns = ['id', 'label']\n",
    "test_df_selected = test_df[selected_columns]\n",
    "\n",
    "# Generate a timestamp for the filename\n",
    "current_datetime = datetime.datetime.now()\n",
    "timestamp = current_datetime.strftime(\"%Y%m%d_%H%M\")\n",
    "file_name = f\"submission_{timestamp}.csv\"\n",
    "\n",
    "# Define the folder for submissions\n",
    "submissions_folder = os.path.join(script_dir, 'submissions')\n",
    "\n",
    "# Specify the full file path\n",
    "file_path = os.path.join(submissions_folder, file_name)\n",
    "\n",
    "# Save the final submission file\n",
    "test_df_selected.to_csv(file_path, index=False)\n"
   ]
  }
 ],
 "metadata": {
  "kernelspec": {
   "display_name": "Python 3 (ipykernel)",
   "language": "python",
   "name": "python3"
  },
  "language_info": {
   "codemirror_mode": {
    "name": "ipython",
    "version": 3
   },
   "file_extension": ".py",
   "mimetype": "text/x-python",
   "name": "python",
   "nbconvert_exporter": "python",
   "pygments_lexer": "ipython3",
   "version": "3.10.4"
  }
 },
 "nbformat": 4,
 "nbformat_minor": 5
}
